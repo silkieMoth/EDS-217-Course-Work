{
 "cells": [
  {
   "cell_type": "code",
   "execution_count": null,
   "id": "6e204358-a0a8-41b7-b085-34471e2268be",
   "metadata": {
    "tags": []
   },
   "outputs": [],
   "source": [
    "import pandas as pd\n",
    "import numpy as np\n",
    "import matplotlib.pyplot as plt\n",
    "import seaborn as sns"
   ]
  },
  {
   "cell_type": "code",
   "execution_count": null,
   "id": "9d609c64-90bf-4d17-8908-044221fc5378",
   "metadata": {
    "tags": []
   },
   "outputs": [],
   "source": [
    "inflation_url = \"https://fred.stlouisfed.org/graph/fredgraph.csv?bgcolor=%23e1e9f0&chart_type=line&drp=0&fo=open%20sans&graph_bgcolor=%23ffffff&height=450&mode=fred&recession_bars=on&txtcolor=%23444444&ts=12&tts=12&width=1320&nt=0&thu=0&trc=0&show_legend=yes&show_axis_titles=yes&show_tooltip=yes&id=CPIAUCSL&scale=left&cosd=1947-01-01&coed=2024-08-01&line_color=%234572a7&link_values=false&line_style=solid&mark_type=none&mw=3&lw=2&ost=-99999&oet=99999&mma=0&fml=a&fq=Quarterly&fam=avg&fgst=lin&fgsnd=2020-02-01&line_index=1&transformation=lin&vintage_date=2024-09-12&revision_date=2024-09-12&nd=1947-01-01\""
   ]
  },
  {
   "cell_type": "code",
   "execution_count": null,
   "id": "492ee90d-ee73-47a0-b5a3-6ce55cbeeebf",
   "metadata": {
    "tags": []
   },
   "outputs": [],
   "source": [
    "inflation = pd.read_csv(inflation_url, parse_dates=[\"DATE\"]).rename(columns = {\"CPIAUCSL\": \"index\", \"DATE\": \"date\"})"
   ]
  },
  {
   "cell_type": "code",
   "execution_count": null,
   "id": "c63a9fca-5c92-4e01-a2b5-40b7ee273553",
   "metadata": {
    "tags": []
   },
   "outputs": [],
   "source": [
    "inflation[\"index\"] = pd.to_numeric(inflation[\"index\"], errors='coerce')\n",
    "inflation = inflation.dropna()\n"
   ]
  },
  {
   "cell_type": "code",
   "execution_count": null,
   "id": "c76a3240-2935-4cb9-80d6-43c95a2a164d",
   "metadata": {
    "tags": []
   },
   "outputs": [],
   "source": [
    "inflation"
   ]
  },
  {
   "cell_type": "code",
   "execution_count": null,
   "id": "7b9225c7-8ec1-44dd-b9a2-8a0298aedf90",
   "metadata": {
    "tags": []
   },
   "outputs": [],
   "source": [
    "inflation_2009_plus = inflation.loc[(inflation['date'] >= '2009-01-01')]"
   ]
  },
  {
   "cell_type": "code",
   "execution_count": null,
   "id": "e9317bb6-81b5-41de-b11f-328b49869614",
   "metadata": {
    "tags": []
   },
   "outputs": [],
   "source": [
    "sns.lineplot(data = inflation_2009_plus, x = \"date\", y = \"index\")"
   ]
  },
  {
   "cell_type": "code",
   "execution_count": null,
   "id": "14497f15-1972-43b3-ad86-6f3973e2ac2a",
   "metadata": {
    "tags": []
   },
   "outputs": [],
   "source": [
    "inflation_change = inflation_2009_plus.diff().round(2)\n",
    "inflation_change[\"date\"] = inflation_2009_plus[\"date\"]\n",
    "inflation_change = inflation_change.rename(columns = {\"index\": \"change_quarterly_percent\"})\n",
    "inflation_change"
   ]
  },
  {
   "cell_type": "code",
   "execution_count": null,
   "id": "fec8a124-3a69-484a-9f76-217c60a3e67e",
   "metadata": {
    "tags": []
   },
   "outputs": [],
   "source": [
    "sns.lineplot(data = inflation_change, x = \"date\", y = \"change_quarterly_percent\")"
   ]
  },
  {
   "cell_type": "code",
   "execution_count": null,
   "id": "2dc8dbc8-92d8-4cb9-ac4c-0a7263dd0235",
   "metadata": {},
   "outputs": [],
   "source": []
  }
 ],
 "metadata": {
  "kernelspec": {
   "display_name": "Python 3.10.0",
   "language": "python",
   "name": "python3.10.0"
  },
  "language_info": {
   "codemirror_mode": {
    "name": "ipython",
    "version": 3
   },
   "file_extension": ".py",
   "mimetype": "text/x-python",
   "name": "python",
   "nbconvert_exporter": "python",
   "pygments_lexer": "ipython3",
   "version": "3.10.0"
  }
 },
 "nbformat": 4,
 "nbformat_minor": 5
}
