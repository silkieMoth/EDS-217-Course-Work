{
 "cells": [
  {
   "cell_type": "markdown",
   "id": "ced84696-c35f-429a-bbac-046dd3470f38",
   "metadata": {},
   "source": [
    "# An Exploration in the Success of Starbucks\n",
    "\n",
    "### Karol Paya, Joshua Paul Cohen, Michelle Yiv\n",
    "\n",
    "[Source: Macrotrends.net](https://www.macrotrends.net/stocks/charts/SBUX/starbucks/shares-outstanding)\n",
    "\n",
    "[Source: fred.stlouisfed.org](https://fred.stlouisfed.org/series/CPIAUCSL)\n",
    "\n",
    "change color, additional annotations, annotations"
   ]
  },
  {
   "cell_type": "markdown",
   "id": "5a4e9f14-bf68-4c77-999d-176f488caaaa",
   "metadata": {},
   "source": [
    "![Workflow](final_proj_workflow.png)"
   ]
  },
  {
   "cell_type": "markdown",
   "id": "60431864-6efe-4be7-ba64-d2a8ddc57089",
   "metadata": {
    "tags": []
   },
   "source": [
    "# Import Data"
   ]
  },
  {
   "cell_type": "code",
   "execution_count": null,
   "id": "5eb3337c-d7b4-4b70-a364-ef174da6801b",
   "metadata": {
    "tags": []
   },
   "outputs": [],
   "source": [
    "# import libraries\n",
    "import pandas as pd\n",
    "import numpy as np\n",
    "import matplotlib.pyplot as plt\n",
    "import seaborn as sns\n",
    "import matplotlib.image as mpimg\n",
    "import requests\n",
    "from io import BytesIO\n",
    "from PIL import Image\n",
    "\n",
    "# Load the starbucks dataset\n",
    "url = \"data/starbucks_revenue_data.xlsx\"\n",
    "revenue = pd.read_excel(url)\n",
    "\n",
    "# load the inflation data set\n",
    "inflation_url = \"https://fred.stlouisfed.org/graph/fredgraph.csv?bgcolor=%23e1e9f0&chart_type=line&drp=0&fo=open%20sans&graph_bgcolor=%23ffffff&height=450&mode=fred&recession_bars=on&txtcolor=%23444444&ts=12&tts=12&width=1320&nt=0&thu=0&trc=0&show_legend=yes&show_axis_titles=yes&show_tooltip=yes&id=CPIAUCSL&scale=left&cosd=1947-01-01&coed=2024-08-01&line_color=%234572a7&link_values=false&line_style=solid&mark_type=none&mw=3&lw=2&ost=-99999&oet=99999&mma=0&fml=a&fq=Quarterly&fam=avg&fgst=lin&fgsnd=2020-02-01&line_index=1&transformation=lin&vintage_date=2024-09-12&revision_date=2024-09-12&nd=1947-01-01\"\n",
    "inflation = pd.read_csv(inflation_url, parse_dates=[\"DATE\"]).rename(columns = {\"CPIAUCSL\": \"index\", \"DATE\": \"date\"})\n",
    "\n",
    "# Load stocks data set\n",
    "stocks=pd.read_excel('data/starbucks_shares.xlsx')"
   ]
  },
  {
   "cell_type": "markdown",
   "id": "f5531399-89a7-41c3-9f2f-332c7a42194c",
   "metadata": {
    "tags": []
   },
   "source": [
    "# Cleaning Data"
   ]
  },
  {
   "cell_type": "code",
   "execution_count": null,
   "id": "b8208225-46a0-4eca-9dbf-64efdffde3c0",
   "metadata": {
    "tags": []
   },
   "outputs": [],
   "source": [
    "# Starbucks\n",
    "# convert date column to datetime\n",
    "revenue['date'] = pd.to_datetime(revenue['date'])"
   ]
  },
  {
   "cell_type": "code",
   "execution_count": null,
   "id": "8db9f532-3308-4f6d-8460-19f68b475b2b",
   "metadata": {},
   "outputs": [],
   "source": [
    "# Inflation\n",
    "# Change index column from object to numeric, remove NA\n",
    "inflation[\"index\"] = pd.to_numeric(inflation[\"index\"], errors='coerce')\n",
    "inflation = inflation.dropna()"
   ]
  },
  {
   "cell_type": "code",
   "execution_count": null,
   "id": "d59898b4-1bf2-489e-824e-679f2e92d65c",
   "metadata": {
    "tags": []
   },
   "outputs": [],
   "source": [
    "# stocks data set was already clean"
   ]
  },
  {
   "cell_type": "markdown",
   "id": "b1c37d61-fd86-41ff-bfb6-a2ad3b30ea36",
   "metadata": {},
   "source": [
    "# Exploring Data"
   ]
  },
  {
   "cell_type": "code",
   "execution_count": null,
   "id": "59a3acf2-fcd3-43ad-8529-5e4bee95f90a",
   "metadata": {
    "tags": []
   },
   "outputs": [],
   "source": [
    "# Preview the starbucks data set\n",
    "print(\"Most Recent 5 Quarters\\n\",revenue.head(5))\n",
    "\n",
    "print(\"Summary Stats:\\n\", revenue.describe())\n",
    "\n",
    "print(\"NA Values:\\n\", revenue.isnull().sum())"
   ]
  },
  {
   "cell_type": "code",
   "execution_count": null,
   "id": "251b4748-6b5b-4e7c-b0d4-73ec0d0793d4",
   "metadata": {
    "tags": []
   },
   "outputs": [],
   "source": [
    "# Preview the inflation data set\n",
    "print(\"Most Recent 5 Quarters\\n\",inflation.tail(5))\n",
    "\n",
    "print(\"Summary Stats:\\n\", inflation.describe())\n",
    "\n",
    "print(\"NA Values:\\n\",inflation.isnull().sum())"
   ]
  },
  {
   "cell_type": "code",
   "execution_count": null,
   "id": "5c98778d-db0b-41ef-8cd5-749b76dd3840",
   "metadata": {
    "tags": []
   },
   "outputs": [],
   "source": [
    "# Preview the stocks data set\n",
    "print(\"Most Recent 5 Shares\\n\",stocks.head(5))\n",
    "desc = stocks.describe()\n",
    "print(desc)\n",
    "\n",
    "print(\"NA Values:\\n\", stocks.isnull().sum())"
   ]
  },
  {
   "cell_type": "markdown",
   "id": "d49563f9-faee-4d7c-bbb9-e13d1ca77d0b",
   "metadata": {},
   "source": [
    "# Filtering Data"
   ]
  },
  {
   "cell_type": "code",
   "execution_count": null,
   "id": "e7ca510f-106c-448d-8530-68103a8e913f",
   "metadata": {},
   "outputs": [],
   "source": [
    "# Inflation\n",
    "# create a new column filtering after 2009 because stocks data started after 2009\n",
    "inflation_2009_plus = inflation.loc[(inflation['date'] >= '2009-01-01')]"
   ]
  },
  {
   "cell_type": "markdown",
   "id": "53e092a8-7e8f-4210-9025-28a95bff8c88",
   "metadata": {
    "tags": []
   },
   "source": [
    "# Sorting Data"
   ]
  },
  {
   "cell_type": "code",
   "execution_count": null,
   "id": "bc8dfef2-1be5-42ff-9010-ad5c99eaec36",
   "metadata": {
    "tags": []
   },
   "outputs": [],
   "source": [
    "# Starbucks\n",
    "# Sort data by most millions of usd\n",
    "revenue_sorted = revenue.sort_values('millions_of_usd', ascending=False)\n",
    "print(\"Most Productive Quarters\\n\", revenue_sorted.head(20))"
   ]
  },
  {
   "cell_type": "markdown",
   "id": "ae7dbab7-c88e-4858-aa5c-689392c58a33",
   "metadata": {
    "tags": []
   },
   "source": [
    "# Transforming Data"
   ]
  },
  {
   "cell_type": "code",
   "execution_count": null,
   "id": "b9b2b861-0963-49e2-b3a4-8127abda58c7",
   "metadata": {
    "tags": []
   },
   "outputs": [],
   "source": [
    "# Starbucks\n",
    "# Add a month column to categorize by season\n",
    "revenue['month'] = revenue['date'].dt.month\n",
    "\n",
    "# Use an if statement to assign seasons\n",
    "def season (month):\n",
    "    if month == 12:\n",
    "        return \"Winter\"\n",
    "    elif month == 3:\n",
    "        return \"Spring\"\n",
    "    elif month == 6:\n",
    "        return \"Summer\"\n",
    "    else:\n",
    "        return \"Fall\"\n",
    "    \n",
    "# add a season column\n",
    "revenue['season'] = revenue['month'].map(season)"
   ]
  },
  {
   "cell_type": "code",
   "execution_count": null,
   "id": "ca468934-e495-4cdd-9a63-6ea9b79586f4",
   "metadata": {
    "tags": []
   },
   "outputs": [],
   "source": [
    "# join data sets\n",
    "\n",
    "revenue_stocks = pd.merge(revenue, stocks, on='date', how='inner')\n",
    "revenue_stocks"
   ]
  },
  {
   "cell_type": "markdown",
   "id": "9ed6173a-7aee-4faf-b86f-5e8b44809135",
   "metadata": {
    "tags": []
   },
   "source": [
    "# Grouping Data"
   ]
  },
  {
   "cell_type": "code",
   "execution_count": null,
   "id": "519809dd-8937-4f3e-91b7-4ccb5befc488",
   "metadata": {
    "tags": []
   },
   "outputs": [],
   "source": [
    "# Find average earnings by season\n",
    "revenue_season = revenue.groupby('season').median().reset_index()\n",
    "print(\"Median Earnings by Season \\n\", revenue_season)"
   ]
  },
  {
   "cell_type": "markdown",
   "id": "f725ac34-0326-4369-83aa-2fe3f26f28e7",
   "metadata": {},
   "source": [
    "# Aggregating Data"
   ]
  },
  {
   "cell_type": "code",
   "execution_count": null,
   "id": "9ae7089f-c020-4a46-ae5b-eaef6ccdd9d3",
   "metadata": {
    "tags": []
   },
   "outputs": [],
   "source": [
    "# Starbucks\n",
    "# find the average by year\n",
    "\n",
    "# add a year column\n",
    "revenue['year'] = revenue['date'].dt.year\n",
    "\n",
    "# find the average by year\n",
    "revenue_average = revenue.groupby(['year'], as_index=False)['millions_of_usd'].mean()\n",
    "print(\"Average Earnings by Year\\n\", revenue_average)\n"
   ]
  },
  {
   "cell_type": "code",
   "execution_count": null,
   "id": "a00c9c4b-144a-4c0d-9d76-f7def557f983",
   "metadata": {
    "tags": []
   },
   "outputs": [],
   "source": [
    "# Inflation\n",
    "# find the percent change by quarter\n",
    "inflation_change = inflation_2009_plus.diff().round(2)\n",
    "inflation_change[\"date\"] = inflation_2009_plus[\"date\"]\n",
    "inflation_change = inflation_change.rename(columns = {\"index\": \"change_quarterly_percent\"})"
   ]
  },
  {
   "cell_type": "markdown",
   "id": "4f3153ef-116d-4efd-b840-f14117177b68",
   "metadata": {},
   "source": [
    "# Visualizing Data"
   ]
  },
  {
   "cell_type": "code",
   "execution_count": null,
   "id": "20b1e516-c87b-403b-814d-58a05af536ef",
   "metadata": {
    "tags": []
   },
   "outputs": [],
   "source": [
    "# Starbucks\n",
    "# plot earnings by season\n",
    "\n",
    "sns.barplot(\n",
    "    data=revenue_season,\n",
    "     x='season', y='millions_of_usd')\n",
    "plt.title('Average Earnings by Season')\n",
    "plt.xlabel('Year')\n",
    "plt.ylabel('Millions of USD')\n",
    "plt.show()\n",
    "\n",
    "\n",
    "# plot earnings by year\n",
    "\n",
    "sns.lineplot(\n",
    "    data=revenue_average,\n",
    "    x='year', y='millions_of_usd')\n",
    "plt.title('Average Earnings by Year')\n",
    "plt.xlabel('Year')\n",
    "plt.ylabel('Millions of USD')\n",
    "plt.show()\n",
    "\n"
   ]
  },
  {
   "cell_type": "code",
   "execution_count": null,
   "id": "2f17aece-7e98-48c0-b454-3005dd8ae6c4",
   "metadata": {
    "tags": []
   },
   "outputs": [],
   "source": [
    "# Inflation\n",
    "# plot of inflation index by year\n",
    "sns.lineplot(data = inflation_2009_plus, x = \"date\", y = \"index\")\n",
    "plt.title('Inflation index by Year')\n",
    "plt.xlabel('Year')\n",
    "plt.ylabel('Index')\n",
    "plt.show()\n",
    "\n",
    "# plot of Change in Quarterly Percent\n",
    "sns.lineplot(data = inflation_change, x = \"date\", y = \"change_quarterly_percent\")\n",
    "plt.title('Rate of Change per Quarter')\n",
    "plt.xlabel('Year')\n",
    "plt.ylabel('Change in Quarterly Percent')\n",
    "plt.show()"
   ]
  },
  {
   "cell_type": "code",
   "execution_count": null,
   "id": "0c5858e8-4436-429f-8c38-78e5c8da0984",
   "metadata": {
    "tags": []
   },
   "outputs": [],
   "source": [
    "# plot stocks plot\n",
    "stocks.plot(x='date',y='Starbucks Quarterly Shares (Millions of Shares)', legend=False)\n",
    "plt.title('Starbucks Stock Shares')\n",
    "plt.xlabel('Year')\n",
    "plt.ylabel('Quartely Shares (millions)')\n",
    "plt.show()\n"
   ]
  },
  {
   "cell_type": "code",
   "execution_count": null,
   "id": "0467b8dc-5273-4cc3-a5a5-1c6bfed362b9",
   "metadata": {
    "tags": []
   },
   "outputs": [],
   "source": [
    "## Overlay Graphs\n",
    "\n",
    "# create empty figure\n",
    "\n",
    "fig, ax1 = plt.subplots(figsize=(10,10))\n",
    "\n",
    "# create axis 1\n",
    "ax1.plot(stocks['date'],stocks['Starbucks Quarterly Shares (Millions of Shares)'], 'steelblue', label='stocks')\n",
    "ax1.tick_params(axis='y')\n",
    "plt.ylabel('Change in Quarterly Percent')\n",
    "\n",
    "# create axis 2\n",
    "ax2=ax1.twinx()\n",
    "ax2.plot(inflation_change['date'],  inflation_change['change_quarterly_percent'], 'coral', label='inflation')\n",
    "ax2.tick_params(axis='y')\n",
    "plt.ylabel('Rate of Change per Quarter')\n",
    "\n",
    "# legend\n",
    "lines, labels = ax1.get_legend_handles_labels() \n",
    "lines2, labels2 = ax2.get_legend_handles_labels() \n",
    "ax1.legend(lines + lines2, labels + labels2, loc='upper right')\n",
    "\n",
    "# labels\n",
    "plt.title('Stocks vs Inflation Change')\n",
    "plt.xlabel('Year')\n",
    "plt.show()"
   ]
  },
  {
   "cell_type": "code",
   "execution_count": null,
   "id": "1a6c5019-ca69-48dd-818d-3ac030794ca7",
   "metadata": {
    "tags": []
   },
   "outputs": [],
   "source": [
    "## Inflation vs Revenue\n",
    "\n",
    "# create empty figure\n",
    "fig, ax1 = plt.subplots(figsize=(10,10))\n",
    "\n",
    "# create axis 1\n",
    "ax1.plot(revenue['date'],revenue['millions_of_usd'], 'steelblue', label='Millions USD')\n",
    "ax1.tick_params(axis='y')\n",
    "plt.ylabel('Millions USD')\n",
    "\n",
    "# create axis 2\n",
    "ax2=ax1.twinx()\n",
    "ax2.plot(inflation_change['date'],  inflation_change['change_quarterly_percent'], 'coral', label='inflation')\n",
    "ax2.tick_params(axis='y')\n",
    "plt.ylabel('Rate of Change per Quarter')\n",
    "\n",
    "# create legend\n",
    "lines, labels = ax1.get_legend_handles_labels() \n",
    "lines2, labels2 = ax2.get_legend_handles_labels() \n",
    "ax1.legend(lines + lines2, labels + labels2, loc='upper left')\n",
    "\n",
    "# labels\n",
    "plt.title('Inflation vs Revenue')\n",
    "plt.xlabel('Year')\n",
    "plt.show()"
   ]
  },
  {
   "cell_type": "markdown",
   "id": "800e990f-75fe-4e2f-ad7a-b3aebfdafa7a",
   "metadata": {
    "tags": []
   },
   "source": []
  }
 ],
 "metadata": {
  "kernelspec": {
   "display_name": "Python 3.7.13",
   "language": "python",
   "name": "py3.7.13"
  },
  "language_info": {
   "codemirror_mode": {
    "name": "ipython",
    "version": 3
   },
   "file_extension": ".py",
   "mimetype": "text/x-python",
   "name": "python",
   "nbconvert_exporter": "python",
   "pygments_lexer": "ipython3",
   "version": "3.7.13"
  }
 },
 "nbformat": 4,
 "nbformat_minor": 5
}
